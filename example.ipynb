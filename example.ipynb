{
 "cells": [
  {
   "cell_type": "markdown",
   "id": "ee766fb7-b3a8-45ed-a503-8ec0c1f84909",
   "metadata": {},
   "source": [
    "# Check results of example.sh\n",
    "\n",
    "This notebook opens the results of example.sh and summarizes the causal effects of TCRs on COVID severity."
   ]
  },
  {
   "cell_type": "code",
   "execution_count": 1,
   "id": "db57481c-16ce-4072-b56a-87fc4dd02323",
   "metadata": {},
   "outputs": [],
   "source": [
    "import numpy as np\n",
    "import pickle"
   ]
  },
  {
   "cell_type": "code",
   "execution_count": 2,
   "id": "4da6e926-9038-4974-b073-4e45ea37bf7b",
   "metadata": {},
   "outputs": [],
   "source": [
    "# Load results of CAIRE.\n",
    "# Replace CAIRE_RESULTS with the path to the results of your training.\n",
    "# This will be printed at the end of training, in the format TestResults: *CAIRE_RESULTS*.\n",
    "CAIRE_RESULTS = 'caire-model/burgundy-formation-b8a503e1c4344268acb435c0/evaluation_results.pkl'\n",
    "with open(CAIRE_RESULTS, 'rb') as f:\n",
    "    evaluate_results = pickle.load(f)\n",
    "    # est_natural_effects gives the estimated effects for interventions with a batch of sequences\n",
    "    # taken from each patient's repertoire. It is size number_of_patients x number_of_sequences_in_batch. \n",
    "    est_natural_effects = pickle.load(f)  "
   ]
  },
  {
   "cell_type": "code",
   "execution_count": 3,
   "id": "21bd0da4-b4c1-4183-adc1-78da3e0d4c44",
   "metadata": {},
   "outputs": [
    {
     "name": "stdout",
     "output_type": "stream",
     "text": [
      "How large an effect do TCRs have on COVID severity, on a three point scale?\n",
      "Average TCR effect size 0.23950823\n",
      "Average effect 6.9117246e-05\n",
      "Standard deviation of effects 0.29401466\n",
      "Minimum effect -0.5413811\n",
      "Maximum effect 1.2895625\n"
     ]
    }
   ],
   "source": [
    "print('How large an effect do TCRs have on COVID severity, on a three point scale?')\n",
    "print('Average TCR effect size', np.mean(np.abs(est_natural_effects)))\n",
    "print('Average effect', np.mean(est_natural_effects))\n",
    "print('Standard deviation of effects', np.std(est_natural_effects))\n",
    "print('Minimum effect', np.min(est_natural_effects))\n",
    "print('Maximum effect', np.max(est_natural_effects))"
   ]
  },
  {
   "cell_type": "code",
   "execution_count": 5,
   "id": "c1e7bcf1-1efd-4fa5-a352-5c7553e24dc1",
   "metadata": {},
   "outputs": [],
   "source": [
    "# Your numbers may not match exactly due to variability in training, \n",
    "# but should be at a similar order of magnitude.\n",
    "# Note the effect distribution reported in the paper is similar, but smoothed out\n",
    "# by ensembling over many models not just one."
   ]
  },
  {
   "cell_type": "code",
   "execution_count": null,
   "id": "2db411fd-f8a6-467b-b0cd-c6f7649620fd",
   "metadata": {},
   "outputs": [],
   "source": []
  }
 ],
 "metadata": {
  "kernelspec": {
   "display_name": "Python 3 (ipykernel)",
   "language": "python",
   "name": "python3"
  },
  "language_info": {
   "codemirror_mode": {
    "name": "ipython",
    "version": 3
   },
   "file_extension": ".py",
   "mimetype": "text/x-python",
   "name": "python",
   "nbconvert_exporter": "python",
   "pygments_lexer": "ipython3",
   "version": "3.11.9"
  }
 },
 "nbformat": 4,
 "nbformat_minor": 5
}
